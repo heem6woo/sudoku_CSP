{
 "cells": [
  {
   "cell_type": "code",
   "execution_count": 5,
   "metadata": {
    "collapsed": true,
    "ExecuteTime": {
     "start_time": "2023-05-21T13:21:04.580247Z",
     "end_time": "2023-05-21T13:21:04.585562Z"
    }
   },
   "outputs": [],
   "source": [
    "easy = [[0, 5, 8, 0, 6, 3, 1, 0, 0],\n",
    "        [0, 0, 2, 7, 0, 0, 4, 0, 0],\n",
    "        [0, 6, 7, 9, 0, 1, 2, 5, 0],\n",
    "        [0, 8, 6, 3, 4, 0, 0, 0, 0],\n",
    "        [0, 0, 0, 0, 0, 0, 0, 0, 0],\n",
    "        [0, 0, 0, 0, 7, 6, 8, 9, 0],\n",
    "        [0, 2, 9, 6, 0, 8, 7, 4, 0],\n",
    "        [0, 0, 3, 0, 0, 4, 9, 0, 0],\n",
    "        [0, 0, 5, 2, 9, 0, 3, 8, 0]]\n",
    "\n",
    "\n",
    "easy2 = [\n",
    "    [0, 6, 1, 0, 0, 0, 0, 5, 2],\n",
    "    [8, 0, 0, 0, 0, 0, 0, 0, 1],\n",
    "    [7, 0, 0, 5, 0, 0, 4, 0, 0],\n",
    "    [9, 0, 3, 6, 0, 2, 0, 4, 7],\n",
    "    [0, 0, 6, 7, 0, 1, 5, 0, 0],\n",
    "    [5, 7, 0, 9, 0, 3, 2, 0, 6],\n",
    "    [0, 0, 4, 0, 0, 9, 0, 0, 5],\n",
    "    [1, 0, 0, 0, 0, 0, 0, 0, 8],\n",
    "    [6, 2, 0, 0, 0, 0, 9, 3, 0]\n",
    "]"
   ]
  },
  {
   "cell_type": "code",
   "execution_count": 6,
   "outputs": [
    {
     "name": "stdout",
     "output_type": "stream",
     "text": [
      "([{1, 3, 5, 6, 8}, {2, 4, 7}, {1, 2, 5, 6, 7, 9}, {8, 3, 4, 6}, set(), {8, 9, 6, 7}, {2, 4, 6, 7, 8, 9}, {9, 3, 4}, {2, 3, 5, 8, 9}], [set(), {8, 2, 5, 6}, {2, 3, 5, 6, 7, 8, 9}, {2, 3, 6, 7, 9}, {9, 4, 6, 7}, {1, 3, 4, 6, 8}, {1, 2, 3, 4, 7, 8, 9}, {8, 9, 4, 5}, set()], [{2, 5, 6, 7, 8}, {1, 3, 6, 7, 9}, {1, 2, 4, 5}, {8, 6}, {3, 4, 6, 7}, {8, 9}, {9, 2, 3, 5}, {2, 4, 6, 8, 9}, {3, 4, 7, 8, 9}])\n",
      "[(0, 0), (0, 3), (0, 7), (0, 8), (1, 0), (1, 1), (1, 4), (1, 5), (1, 7), (1, 8), (2, 0), (2, 4), (2, 8), (3, 0), (3, 5), (3, 6), (3, 7), (3, 8), (4, 0), (4, 1), (4, 2), (4, 3), (4, 4), (4, 5), (4, 6), (4, 7), (4, 8), (5, 0), (5, 1), (5, 2), (5, 3), (5, 8), (6, 0), (6, 4), (6, 8), (7, 0), (7, 1), (7, 3), (7, 4), (7, 7), (7, 8), (8, 0), (8, 1), (8, 5), (8, 8)]\n",
      "<class 'tuple'>\n",
      "0 3\n"
     ]
    }
   ],
   "source": [
    "matrix = easy\n",
    "\n",
    "def CSPInit(sudoku :  list[list[int]]):\n",
    "\n",
    "    rows = [set(cell for cell in row if cell != 0) for row in sudoku]\n",
    "    cols = [set(sudoku[row][col] for row in range(9) if sudoku[row][col] != 0) for col in range(9)]\n",
    "    boxes = []\n",
    "    for row in range(0, 9, 3):\n",
    "        for col in range(0, 9, 3):\n",
    "            box = set()\n",
    "            for i in range(3):\n",
    "                for j in range(3):\n",
    "                    cell = sudoku[row + i][col + j]\n",
    "                    if cell != 0:\n",
    "                        box.add(cell)\n",
    "            boxes.append(box)\n",
    "\n",
    "    return rows, cols, boxes\n",
    "\n",
    "constraints = CSPInit(easy)\n",
    "\n",
    "print(constraints)\n",
    "\n",
    "variables = [(row, col) for row in range(9) for col in range(9) if matrix[row][col] == 0]\n",
    "\n",
    "print(variables)\n",
    "print(type(variables[0]))\n",
    "\n",
    "print(variables[1][0],variables[1][1])"
   ],
   "metadata": {
    "collapsed": false,
    "ExecuteTime": {
     "start_time": "2023-05-21T13:21:04.585930Z",
     "end_time": "2023-05-21T13:21:04.589709Z"
    }
   }
  },
  {
   "cell_type": "code",
   "execution_count": 7,
   "outputs": [
    {
     "name": "stdout",
     "output_type": "stream",
     "text": [
      "0\n",
      "8\n",
      "True\n"
     ]
    }
   ],
   "source": [
    "\n",
    "domains1 = {}\n",
    "def find_box( row, col):\n",
    "    box_row = row // 3\n",
    "    box_col = col // 3\n",
    "    box_number = (box_row * 3) + box_col\n",
    "    return box_number\n",
    "\n",
    "def domainInit():\n",
    "\n",
    "    #self.domains = {(row, col): range(1, 10) for row,col in self.variables}\n",
    "\n",
    "    for row,col in variables:\n",
    "        domain = []\n",
    "        for d in range(1, 10):\n",
    "            if d in constraints[0][row] or d in constraints[1][col] or d in constraints[2][find_box(row, col)]:\n",
    "                continue\n",
    "            else:\n",
    "                domain.append(d)\n",
    "        domains1[row,col] = domain\n",
    "\n",
    "domainInit()\n",
    "\n",
    "\n",
    "print(find_box(0,0))\n",
    "\n",
    "constraints[2][0]\n",
    "\n",
    "print(find_box(8,8))\n",
    "def Connected(var1: tuple, var2: tuple):\n",
    "    return var1[0] == var2[0] or var1[1] == var2[1] or find_box(var1) == find_box(var2)\n",
    "\n",
    "print(Connected((0,0), (0,1)))"
   ],
   "metadata": {
    "collapsed": false,
    "ExecuteTime": {
     "start_time": "2023-05-21T13:21:04.590271Z",
     "end_time": "2023-05-21T13:21:04.594644Z"
    }
   }
  },
  {
   "cell_type": "code",
   "execution_count": 8,
   "outputs": [
    {
     "name": "stdout",
     "output_type": "stream",
     "text": [
      "1\n",
      "5\n"
     ]
    }
   ],
   "source": [
    "r = 3\n",
    "c = 3\n",
    "\n",
    "def deter(d):\n",
    "    if d not in constraints[0][r] and \\\n",
    "        d not in constraints[1][c] and \\\n",
    "        d not in constraints[2][find_box(r, c)]:\n",
    "        return True\n",
    "    else:\n",
    "        return False\n",
    "\n",
    "for d in range(1,10):\n",
    "    if deter(d):\n",
    "        print(d)"
   ],
   "metadata": {
    "collapsed": false,
    "ExecuteTime": {
     "start_time": "2023-05-21T13:21:04.594765Z",
     "end_time": "2023-05-21T13:21:04.629634Z"
    }
   }
  },
  {
   "cell_type": "code",
   "execution_count": 9,
   "outputs": [
    {
     "ename": "IndexError",
     "evalue": "list index out of range",
     "output_type": "error",
     "traceback": [
      "\u001B[0;31m---------------------------------------------------------------------------\u001B[0m",
      "\u001B[0;31mIndexError\u001B[0m                                Traceback (most recent call last)",
      "Cell \u001B[0;32mIn[9], line 38\u001B[0m\n\u001B[1;32m     35\u001B[0m     backtrack(\u001B[38;5;241m0\u001B[39m)\n\u001B[1;32m     36\u001B[0m     \u001B[38;5;28;01mreturn\u001B[39;00m board\n\u001B[0;32m---> 38\u001B[0m \u001B[38;5;28mprint\u001B[39m(\u001B[43msolveSudoku\u001B[49m\u001B[43m(\u001B[49m\u001B[43measy\u001B[49m\u001B[43m)\u001B[49m)\n",
      "Cell \u001B[0;32mIn[9], line 15\u001B[0m, in \u001B[0;36msolveSudoku\u001B[0;34m(board)\u001B[0m\n\u001B[1;32m     13\u001B[0m     k \u001B[38;5;241m=\u001B[39m i \u001B[38;5;241m/\u001B[39m\u001B[38;5;241m/\u001B[39m \u001B[38;5;241m3\u001B[39m \u001B[38;5;241m*\u001B[39m \u001B[38;5;241m3\u001B[39m \u001B[38;5;241m+\u001B[39m j \u001B[38;5;241m/\u001B[39m\u001B[38;5;241m/\u001B[39m \u001B[38;5;241m3\u001B[39m\n\u001B[1;32m     14\u001B[0m     num \u001B[38;5;241m=\u001B[39m board[i][j]\n\u001B[0;32m---> 15\u001B[0m     heng[i]\u001B[38;5;241m.\u001B[39madd(num); zong[j]\u001B[38;5;241m.\u001B[39madd(num); \u001B[43mgezi\u001B[49m\u001B[43m[\u001B[49m\u001B[43mk\u001B[49m\u001B[43m]\u001B[49m\u001B[38;5;241m.\u001B[39madd(num)\n\u001B[1;32m     16\u001B[0m \u001B[38;5;28;01melse\u001B[39;00m:\n\u001B[1;32m     17\u001B[0m     blank\u001B[38;5;241m.\u001B[39mappend((i, j))\n",
      "\u001B[0;31mIndexError\u001B[0m: list index out of range"
     ]
    }
   ],
   "source": [
    "def solveSudoku( board):\n",
    "    \"\"\"\n",
    "    :type board: List[List[str]]\n",
    "    :rtype: void Do not return anything, modify board in-place instead.\n",
    "    \"\"\"\n",
    "    heng = [set() for i in range(1,9)]\n",
    "    zong = [set() for i in range(1,9)]\n",
    "    gezi = [set() for i in range(1,9)]\n",
    "    blank = []\n",
    "    for i in range(9):\n",
    "        for j in range(9):\n",
    "            if board[i][j] != 0:\n",
    "                k = i // 3 * 3 + j // 3\n",
    "                num = board[i][j]\n",
    "                heng[i].add(num); zong[j].add(num); gezi[k].add(num)\n",
    "            else:\n",
    "                blank.append((i, j))\n",
    "\n",
    "    def backtrack(start):\n",
    "        if start >= len(blank):\n",
    "            return True\n",
    "        i, j = blank[start]\n",
    "        k = i // 3 * 3 + j // 3\n",
    "        for num in range(1,9):\n",
    "            if num not in heng[i] and num not in zong[j] and\\\n",
    "                    num not in gezi[k]:\n",
    "                board[i][j] = num\n",
    "                heng[i].add(num); zong[j].add(num); gezi[k].add(num)\n",
    "                if backtrack(start + 1):\n",
    "                    return True\n",
    "                heng[i].remove(num); zong[j].remove(num); gezi[k].remove(num)\n",
    "                board[i][j] = 0\n",
    "        return False\n",
    "\n",
    "    backtrack(0)\n",
    "    return board\n",
    "\n",
    "print(solveSudoku(easy))\n",
    "\n",
    "\n"
   ],
   "metadata": {
    "collapsed": false,
    "ExecuteTime": {
     "start_time": "2023-05-19T23:32:03.671781Z",
     "end_time": "2023-05-19T23:32:03.676699Z"
    }
   }
  },
  {
   "cell_type": "code",
   "execution_count": null,
   "outputs": [],
   "source": [
    "rows = [set() for i in range(1,10)]\n",
    "\n",
    "print(rows)"
   ],
   "metadata": {
    "collapsed": false,
    "ExecuteTime": {
     "start_time": "2023-05-19T23:47:16.815628Z",
     "end_time": "2023-05-19T23:47:16.817713Z"
    }
   }
  },
  {
   "cell_type": "code",
   "execution_count": null,
   "outputs": [],
   "source": [
    "\n",
    "def solve_sudoku(variables, domains, constraints):\n",
    "    assignment = {}\n",
    "\n",
    "    def backtrack(assignment):\n",
    "        if len(assignment) == len(variables):\n",
    "            return assignment\n",
    "\n",
    "        var = select_unassigned_variable(assignment, variables)\n",
    "        for value in order_domain_values(var, assignment, domains):\n",
    "            if is_consistent(var, value, assignment, constraints):\n",
    "                assignment[var] = value\n",
    "                result = backtrack(assignment)\n",
    "                if result is not None:\n",
    "                    return result\n",
    "                del assignment[var]\n",
    "\n",
    "        return None\n",
    "\n",
    "    return backtrack(assignment)\n",
    "\n",
    "\n",
    "def select_unassigned_variable(assignment, variables):\n",
    "    for var in variables:\n",
    "        if var not in assignment:\n",
    "            return var\n",
    "\n",
    "\n",
    "def order_domain_values(var, assignment, domains):\n",
    "    return list(domains[var])\n",
    "\n",
    "\n",
    "def is_consistent(var, value, assignment, constraints):\n",
    "    for constraint in constraints:\n",
    "        if var in constraint and constraint[var] == value:\n",
    "            return False\n",
    "    return True\n",
    "\n",
    "\n",
    "# Given Sudoku grid with some initial values\n",
    "sudoku_grid = [\n",
    "    [5, 3, 0, 0, 7, 0, 0, 0, 0],\n",
    "    [6, 0, 0, 1, 9, 5, 0, 0, 0],\n",
    "    [0, 9, 8, 0, 0, 0, 0, 6, 0],\n",
    "    [8, 0, 0, 0, 6, 0, 0, 0, 3],\n",
    "    [4, 0, 0, 8, 0, 3, 0, 0, 1],\n",
    "    [7, 0, 0, 0, 2, 0, 0, 0, 6],\n",
    "    [0, 6, 0, 0, 0, 0, 2, 8, 0],\n",
    "    [0, 0, 0, 4, 1, 9, 0, 0, 5],\n",
    "    [0, 0, 0, 0, 8, 0, 0, 7, 9]\n",
    "]\n",
    "\n",
    "# Define variables and their corresponding domains\n",
    "variables = []\n",
    "domains = {}\n",
    "constraints = []\n",
    "for i in range(9):\n",
    "    for j in range(9):\n",
    "        variable = f\"cell_{i}_{j}\"\n",
    "        variables.append(variable)\n",
    "        if sudoku_grid[i][j] == 0:\n",
    "            domains[variable] = set(range(1, 10))\n",
    "        else:\n",
    "            domains[variable] = {sudoku_grid[i][j]}\n",
    "\n",
    "        # Add constraints for rows, columns, and 3x3 boxes\n",
    "        row_constraint = {(variable, v) for v in variables if v != variable and v.startswith(f\"cell_{i}_\")}\n",
    "        col_constraint = {(variable, v) for v in variables if v != variable and v.endswith(f\"_{j}\")}\n",
    "        box_constraint = {(variable, v) for v in variables if v != variable and (abs(int(v[5]) - i) + abs(int(v[7]) - j)) == 3}\n",
    "\n",
    "        constraints.extend([row_constraint, col_constraint, box_constraint])\n",
    "\n",
    "# Solve Sudoku using backtracking\n",
    "solution = solve_sudoku(variables, domains, constraints)\n",
    "\n",
    "# Print the solved Sudoku grid\n",
    "solved_grid = [[solution[var] for var in variables if var.startswith(f\"cell_{i}_\")] for i in range(9)]\n",
    "for row in solved_grid:\n",
    "    print(row)"
   ],
   "metadata": {
    "collapsed": false,
    "ExecuteTime": {
     "start_time": "2023-05-19T17:37:47.963799Z",
     "end_time": "2023-05-19T17:37:47.968801Z"
    }
   }
  },
  {
   "cell_type": "code",
   "execution_count": null,
   "outputs": [],
   "source": [
    "def solve_sudoku(sudoku_grid):\n",
    "    rows = len(sudoku_grid)\n",
    "    cols = len(sudoku_grid[0])\n",
    "    variables = []\n",
    "    domains = {}\n",
    "    constraints = []\n",
    "\n",
    "    # Generate variables and domains\n",
    "    for i in range(rows):\n",
    "        for j in range(cols):\n",
    "            cell = sudoku_grid[i][j]\n",
    "            if cell == 0:\n",
    "                var = f\"cell_{i}_{j}\"\n",
    "                variables.append(var)\n",
    "                domains[var] = set(range(1, 10))\n",
    "            else:\n",
    "                var = f\"cell_{i}_{j}\"\n",
    "                variables.append(var)\n",
    "                domains[var] = {cell}\n",
    "\n",
    "    # Generate constraints\n",
    "    for i in range(rows):\n",
    "        row_constraint = [f\"cell_{i}_{j}\" for j in range(cols)]\n",
    "        constraints.append(row_constraint)\n",
    "    print(constraints)\n",
    "\n",
    "    for j in range(cols):\n",
    "        col_constraint = [f\"cell_{i}_{j}\" for i in range(rows)]\n",
    "        constraints.append(col_constraint)\n",
    "\n",
    "    for i in range(0, rows, 3):\n",
    "        for j in range(0, cols, 3):\n",
    "            box_constraint = [f\"cell_{i + x}_{j + y}\" for x in range(3) for y in range(3)]\n",
    "            constraints.append(box_constraint)\n",
    "\n",
    "    # Backtracking algorithm\n",
    "    def backtrack(assignment):\n",
    "        if len(assignment) == len(variables):\n",
    "            return assignment\n",
    "\n",
    "        var = select_unassigned_variable(assignment)\n",
    "        for value in order_domain_values(var, assignment, domains):\n",
    "            if is_consistent(var, value, assignment, constraints):\n",
    "                assignment[var] = value\n",
    "                result = backtrack(assignment)\n",
    "                if result is not None:\n",
    "                    return result\n",
    "                del assignment[var]\n",
    "\n",
    "        return None\n",
    "\n",
    "    # Helper functions\n",
    "    def select_unassigned_variable(assignment):\n",
    "        for var in variables:\n",
    "            if var not in assignment:\n",
    "                return var\n",
    "\n",
    "    def order_domain_values(var, assignment, domains):\n",
    "        return list(domains[var])\n",
    "\n",
    "    def is_consistent(var, value, assignment, constraints):\n",
    "        for constraint in constraints:\n",
    "            if var in constraint and value in assignment.values():\n",
    "                return False\n",
    "        return True\n",
    "\n",
    "    # Solve Sudoku using backtracking\n",
    "    solution = backtrack({})\n",
    "    if solution is not None:\n",
    "        # Convert the solution to a 2D grid\n",
    "        solved_grid = [[solution[f\"cell_{i}_{j}\"] for j in range(cols)] for i in range(rows)]\n",
    "        return solved_grid\n",
    "    else:\n",
    "        return None\n",
    "\n",
    "\n",
    "# Given Sudoku grid with some initial values\n",
    "sudoku_grid = [\n",
    "    [5, 3, 0, 0, 7, 0, 0, 0, 0],\n",
    "    [6, 0, 0, 1, 9, 5, 0, 0, 0],\n",
    "    [0, 9, 8, 0, 0, 0, 0, 6, 0],\n",
    "    [8, 0, 0, 0, 6, 0, 0, 0, 3],\n",
    "    [4, 0, 0, 8, 0, 3, 0, 0, 1],\n",
    "    [7, 0, 0, 0, 2, 0, 0, 0, 6],\n",
    "    [0, 6, 0, 0, 0, 0, 2, 8, 0],\n",
    "    [0, 0, 0, 4, 1, 9, 0, 0, 5],\n",
    "    [0, 0, 0, 0, 8, 0, 0, 7, 9]\n",
    "]\n",
    "\n",
    "# Solve Sudoku\n",
    "solution = solve_sudoku(easy)\n",
    "\n",
    "# Print the solved Sudoku grid\n",
    "if solution is not None:\n",
    "    for row in solution:\n",
    "        print(row)\n",
    "else:\n",
    "    print(\"No sol\")"
   ],
   "metadata": {
    "collapsed": false,
    "ExecuteTime": {
     "start_time": "2023-05-19T17:42:44.533676Z",
     "end_time": "2023-05-19T17:42:44.539482Z"
    }
   }
  },
  {
   "cell_type": "code",
   "execution_count": null,
   "outputs": [],
   "source": [],
   "metadata": {
    "collapsed": false,
    "ExecuteTime": {
     "start_time": "2023-05-19T17:40:38.744580Z",
     "end_time": "2023-05-19T17:40:38.768535Z"
    }
   }
  },
  {
   "cell_type": "code",
   "execution_count": null,
   "outputs": [],
   "source": [
    "import random\n",
    "\n",
    "i = 0\n",
    "e = 0\n",
    "while i < 50:\n",
    "\n",
    "    if random.randint(1,10) <= 1:\n",
    "        e += 1\n",
    "        print(\"err\")\n",
    "        continue\n",
    "    print(\"right\")\n",
    "    i += 1\n",
    "\n",
    "print(i, e)"
   ],
   "metadata": {
    "collapsed": false,
    "ExecuteTime": {
     "start_time": "2023-05-20T18:22:11.459877Z",
     "end_time": "2023-05-20T18:22:11.464371Z"
    }
   }
  },
  {
   "cell_type": "code",
   "execution_count": null,
   "outputs": [],
   "source": [],
   "metadata": {
    "collapsed": false,
    "ExecuteTime": {
     "start_time": "2023-05-20T18:22:14.843103Z",
     "end_time": "2023-05-20T18:22:14.848770Z"
    }
   }
  },
  {
   "cell_type": "code",
   "execution_count": 10,
   "outputs": [
    {
     "name": "stdout",
     "output_type": "stream",
     "text": [
      "[(0, 0), (7, 8)]\n"
     ]
    }
   ],
   "source": [
    "my_dict = {(1, 2): [4, 5, 6],\n",
    "           (3, 4): [7, 8],\n",
    "           (5, 6): [9, 10, 11],\n",
    "           (0, 0 ): [1],\n",
    "           (7, 8): [12],\n",
    "           (9, 10): [1, 2, 3],\n",
    "           (11, 12): [1, 2, 3]}\n",
    "\n",
    "min_value_size = float('inf')\n",
    "keys_with_min_value = []\n",
    "\n",
    "for key, value in my_dict.items():\n",
    "    value_size = len(value)\n",
    "    if value_size < min_value_size:\n",
    "        min_value_size = value_size\n",
    "        keys_with_min_value = [key]\n",
    "    elif value_size == min_value_size:\n",
    "        keys_with_min_value.append(key)\n",
    "\n",
    "print(keys_with_min_value)"
   ],
   "metadata": {
    "collapsed": false,
    "ExecuteTime": {
     "start_time": "2023-05-21T18:55:58.062231Z",
     "end_time": "2023-05-21T18:55:58.064956Z"
    }
   }
  },
  {
   "cell_type": "code",
   "execution_count": 15,
   "outputs": [
    {
     "name": "stdout",
     "output_type": "stream",
     "text": [
      "Solution found:\n",
      "[4, 5, 8, -4, 6, 3, 1, -4, -4]\n",
      "[-4, -4, 2, 7, 5, -5, 4, -5, -5]\n",
      "[-4, 6, 7, 9, -5, 1, 2, 5, 3]\n",
      "[-4, 8, 6, 3, 4, 2, -2, -2, -3]\n",
      "[-4, 1, -1, -2, -5, -2, -1, -1, -3]\n",
      "[-4, -1, -1, -2, 7, 6, 8, 9, -3]\n",
      "[-4, 2, 9, 6, -5, 8, 7, 4, -3]\n",
      "[-4, -1, 3, 1, -5, 4, 9, -1, -3]\n",
      "[-4, -1, 5, 2, 9, -2, 3, 8, -3]\n"
     ]
    }
   ],
   "source": [
    "def is_valid(grid, row, col, num):\n",
    "    # Check if 'num' is valid in the given row\n",
    "    for i in range(9):\n",
    "        if grid[row][i] == num:\n",
    "            return False\n",
    "\n",
    "    # Check if 'num' is valid in the given column\n",
    "    for i in range(9):\n",
    "        if grid[i][col] == num:\n",
    "            return False\n",
    "\n",
    "    # Check if 'num' is valid in the given 3x3 box\n",
    "    start_row = (row // 3) * 3\n",
    "    start_col = (col // 3) * 3\n",
    "\n",
    "    for i in range(3):\n",
    "        for j in range(3):\n",
    "            if grid[start_row + i][start_col + j] == num:\n",
    "                return False\n",
    "\n",
    "    return True\n",
    "\n",
    "\n",
    "def forward_check(grid, row, col, num):\n",
    "    # Remove 'num' from the domains of the cells in the same row\n",
    "    for i in range(9):\n",
    "        if grid[row][i] == 0:\n",
    "            grid[row][i] = -num\n",
    "\n",
    "    # Remove 'num' from the domains of the cells in the same column\n",
    "    for i in range(9):\n",
    "        if grid[i][col] == 0:\n",
    "            grid[i][col] = -num\n",
    "\n",
    "    # Remove 'num' from the domains of the cells in the same 3x3 box\n",
    "    start_row = (row // 3) * 3\n",
    "    start_col = (col // 3) * 3\n",
    "\n",
    "    for i in range(3):\n",
    "        for j in range(3):\n",
    "            if grid[start_row + i][start_col + j] == 0:\n",
    "                grid[start_row + i][start_col + j] = -num\n",
    "\n",
    "\n",
    "def undo_forward_check(grid, row, col, num):\n",
    "    # Restore the domains of the cells in the same row\n",
    "    for i in range(9):\n",
    "        if grid[row][i] == -num:\n",
    "            grid[row][i] = 0\n",
    "\n",
    "    # Restore the domains of the cells in the same column\n",
    "    for i in range(9):\n",
    "        if grid[i][col] == -num:\n",
    "            grid[i][col] = 0\n",
    "\n",
    "    # Restore the domains of the cells in the same 3x3 box\n",
    "    start_row = (row // 3) * 3\n",
    "    start_col = (col // 3) * 3\n",
    "\n",
    "    for i in range(3):\n",
    "        for j in range(3):\n",
    "            if grid[start_row + i][start_col + j] == -num:\n",
    "                grid[start_row + i][start_col + j] = 0\n",
    "\n",
    "\n",
    "def solve_sudoku(grid):\n",
    "    for row in range(9):\n",
    "        for col in range(9):\n",
    "            if grid[row][col] == 0:  # Found an empty cell\n",
    "                for num in range(1, 10):\n",
    "                    if is_valid(grid, row, col, num):\n",
    "                        grid[row][col] = num  # Try assigning 'num' to the cell\n",
    "                        forward_check(grid, row, col, num)  # Apply forward checking\n",
    "\n",
    "                        if solve_sudoku(grid):  # Recursively solve the modified grid\n",
    "                            return True\n",
    "\n",
    "                        grid[row][col] = 0  # Undo the assignment if it leads to an invalid solution\n",
    "                        undo_forward_check(grid, row, col, num)  # Undo forward checking\n",
    "\n",
    "                return False  # No valid number found for the current cell\n",
    "\n",
    "    return True  # All cells filled, solution found\n",
    "\n",
    "\n",
    "# Example usage:\n",
    "# Define the Sudoku grid (0 represents empty cells)\n",
    "easy = [[0, 5, 8, 0, 6, 3, 1, 0, 0],\n",
    "        [0, 0, 2, 7, 0, 0, 4, 0, 0],\n",
    "        [0, 6, 7, 9, 0, 1, 2, 5, 0],\n",
    "        [0, 8, 6, 3, 4, 0, 0, 0, 0],\n",
    "        [0, 0, 0, 0, 0, 0, 0, 0, 0],\n",
    "        [0, 0, 0, 0, 7, 6, 8, 9, 0],\n",
    "        [0, 2, 9, 6, 0, 8, 7, 4, 0],\n",
    "        [0, 0, 3, 0, 0, 4, 9, 0, 0],\n",
    "        [0, 0, 5, 2, 9, 0, 3, 8, 0]]\n",
    "\n",
    "grid = easy\n",
    "if solve_sudoku(grid):\n",
    "    print(\"Solution found:\")\n",
    "    for row in grid:\n",
    "        print(row)\n",
    "else:\n",
    "    print(\"No solution exists for the given Sudoku puzzle.\")"
   ],
   "metadata": {
    "collapsed": false,
    "ExecuteTime": {
     "start_time": "2023-05-22T15:26:47.942622Z",
     "end_time": "2023-05-22T15:26:47.947652Z"
    }
   }
  },
  {
   "cell_type": "code",
   "execution_count": 12,
   "outputs": [],
   "source": [],
   "metadata": {
    "collapsed": false,
    "ExecuteTime": {
     "start_time": "2023-05-22T15:26:39.618622Z",
     "end_time": "2023-05-22T15:26:39.639408Z"
    }
   }
  },
  {
   "cell_type": "code",
   "execution_count": 12,
   "outputs": [],
   "source": [],
   "metadata": {
    "collapsed": false,
    "ExecuteTime": {
     "start_time": "2023-05-22T15:26:41.528203Z",
     "end_time": "2023-05-22T15:26:41.544966Z"
    }
   }
  },
  {
   "cell_type": "code",
   "execution_count": 12,
   "outputs": [],
   "source": [],
   "metadata": {
    "collapsed": false,
    "ExecuteTime": {
     "start_time": "2023-05-22T15:26:42.130712Z",
     "end_time": "2023-05-22T15:26:42.148612Z"
    }
   }
  },
  {
   "cell_type": "code",
   "execution_count": null,
   "outputs": [],
   "source": [],
   "metadata": {
    "collapsed": false
   }
  }
 ],
 "metadata": {
  "kernelspec": {
   "display_name": "Python 3",
   "language": "python",
   "name": "python3"
  },
  "language_info": {
   "codemirror_mode": {
    "name": "ipython",
    "version": 2
   },
   "file_extension": ".py",
   "mimetype": "text/x-python",
   "name": "python",
   "nbconvert_exporter": "python",
   "pygments_lexer": "ipython2",
   "version": "2.7.6"
  }
 },
 "nbformat": 4,
 "nbformat_minor": 0
}
